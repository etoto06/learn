{
  "nbformat": 4,
  "nbformat_minor": 0,
  "metadata": {
    "colab": {
      "provenance": []
    },
    "kernelspec": {
      "name": "python3",
      "display_name": "Python 3"
    },
    "language_info": {
      "name": "python"
    }
  },
  "cells": [
    {
      "cell_type": "code",
      "execution_count": 2,
      "metadata": {
        "colab": {
          "base_uri": "https://localhost:8080/",
          "height": 35
        },
        "id": "f70DtcncAK99",
        "outputId": "93509894-49d9-4009-bf95-b11c0afc5f8f"
      },
      "outputs": [
        {
          "output_type": "execute_result",
          "data": {
            "text/plain": [
              "'2.2.1+cu121'"
            ],
            "application/vnd.google.colaboratory.intrinsic+json": {
              "type": "string"
            }
          },
          "metadata": {},
          "execution_count": 2
        }
      ],
      "source": [
        "import torch\n",
        "torch.__version__"
      ]
    },
    {
      "cell_type": "code",
      "source": [
        "!pip install torchinfo\n",
        "\n",
        "import numpy\n",
        "numpy.__version__"
      ],
      "metadata": {
        "colab": {
          "base_uri": "https://localhost:8080/",
          "height": 54
        },
        "id": "p0-uSdt3AUk7",
        "outputId": "0c1bfc46-39e2-46fa-91ff-450919d028c4"
      },
      "execution_count": 13,
      "outputs": [
        {
          "output_type": "stream",
          "name": "stdout",
          "text": [
            "Requirement already satisfied: torchinfo in /usr/local/lib/python3.10/dist-packages (1.8.0)\n"
          ]
        },
        {
          "output_type": "execute_result",
          "data": {
            "text/plain": [
              "'1.25.2'"
            ],
            "application/vnd.google.colaboratory.intrinsic+json": {
              "type": "string"
            }
          },
          "metadata": {},
          "execution_count": 13
        }
      ]
    },
    {
      "cell_type": "code",
      "source": [
        "import torch\n",
        "import torch.nn as nn\n",
        "import torchinfo\n",
        "\n",
        "class SimpleNN(nn.Module):\n",
        "    def __init__(self):\n",
        "        super(SimpleNN, self).__init__()\n",
        "        self.fc1 = nn.Linear(2, 4)\n",
        "        self.fc2 = nn.Linear(4, 2)\n",
        "        self.fc3 = nn.Linear(2, 1)\n",
        "\n",
        "\n",
        "    def forward(self, x):\n",
        "        x = self.fc1(x)\n",
        "        x = torch.relu(x)  # relu 활성화함수 넣기 .\n",
        "        x = self.fc2(x)\n",
        "        x = torch.softmax(x)\n",
        "        return x"
      ],
      "metadata": {
        "id": "30psYX5ZCrCC"
      },
      "execution_count": 28,
      "outputs": []
    },
    {
      "cell_type": "code",
      "source": [
        "model = SimpleNN()\n",
        "model\n",
        "# torchinfo.summary(model, input_size=(4, 2))"
      ],
      "metadata": {
        "colab": {
          "base_uri": "https://localhost:8080/"
        },
        "id": "Md2kUR5TbRfz",
        "outputId": "ae9fadd1-bdaf-4b4d-937f-07439ab4d070"
      },
      "execution_count": 27,
      "outputs": [
        {
          "output_type": "execute_result",
          "data": {
            "text/plain": [
              "SimpleNN(\n",
              "  (fc1): Linear(in_features=2, out_features=4, bias=True)\n",
              "  (fc2): Linear(in_features=4, out_features=2, bias=True)\n",
              ")"
            ]
          },
          "metadata": {},
          "execution_count": 27
        }
      ]
    },
    {
      "cell_type": "code",
      "source": [],
      "metadata": {
        "id": "9LIW8o0ubsiM"
      },
      "execution_count": null,
      "outputs": []
    },
    {
      "cell_type": "code",
      "source": [
        "and_data = torch.tensor([[0,0],[0,1],[1,0],[1,1]], dtype=torch.float32)\n",
        "\n",
        "and_labels = torch.tensor([[0],[0],[0],[1]], dtype=torch.float32)\n",
        "\n",
        "import numpy as np\n",
        "\n",
        "data = np.array([[1,2],\n",
        "                 [3,4]])\n",
        "data.shape , and_data.shape, and_labels.shape"
      ],
      "metadata": {
        "colab": {
          "base_uri": "https://localhost:8080/"
        },
        "id": "R8eNf1oaWTz2",
        "outputId": "ac12051d-ba68-48df-b8f9-4a1eb45832f4"
      },
      "execution_count": 17,
      "outputs": [
        {
          "output_type": "execute_result",
          "data": {
            "text/plain": [
              "((2, 2), torch.Size([4, 2]), torch.Size([4, 1]))"
            ]
          },
          "metadata": {},
          "execution_count": 17
        }
      ]
    },
    {
      "cell_type": "code",
      "source": [
        "import torch.optim as optim\n",
        "\n",
        "def train_network(data,labels):\n",
        "  model = SimpleNN()\n",
        "  criterion = nn.BCELoss()\n",
        "  # optimizer = optim.SGD(model.parameters(), lr=0.1)\n",
        "  optimizer = optim.Adam(model.parameters(), lr=0.1) # 아담 쓰기\n",
        "\n",
        "  for epoch in range(1000):\n",
        "    # for step in epoch:\n",
        "    optimizer.zero_grad()\n",
        "    outputs = model(data)\n",
        "    loss = criterion(outputs,labels)\n",
        "    loss.backward() #미분\n",
        "    optimizer.step()\n",
        "\n",
        "  return model\n"
      ],
      "metadata": {
        "id": "LaY6jF44XAwe"
      },
      "execution_count": 33,
      "outputs": []
    },
    {
      "cell_type": "code",
      "source": [
        "def train_network(data, labels):\n",
        "  model = SimpleNN()\n",
        "\n",
        "  class SimpleNN"
      ],
      "metadata": {
        "id": "38tpKs6tZznc"
      },
      "execution_count": null,
      "outputs": []
    }
  ]
}